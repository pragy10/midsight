{
 "cells": [
  {
   "cell_type": "code",
   "execution_count": 5,
   "id": "f81e61f6",
   "metadata": {},
   "outputs": [
    {
     "name": "stdout",
     "output_type": "stream",
     "text": [
      "<re.Match object; span=(246, 259), match='198.168.32.10'>\n"
     ]
    }
   ],
   "source": [
    "import re\n",
    "\n",
    "def extract_ip(message):\n",
    "        IP = re.compile(r'(\\d{1,3}\\.\\d{1,3}\\.\\d{1,3}\\.\\d{1,3})')\n",
    "        match = IP.search(message)\n",
    "        return match if match else None\n",
    "\n",
    "hello = extract_ip('{\"appname\":\"sudo\",\"context\":{\"pam_activity\":\"session\",\"service\":\"sudo\",\"sudo_user\":\"root\"},\"event\":{\"category\":\"authentication\",\"name\":\"session closed\"},\"file\":\"/var/log/auth.log\",\"host\":\"kali\",\"hostname\":\"kali\",\"message\":\"pam_unix(sudo:session) 198.168.32.10 : session closed for user root\",\"source_type\":\"file\",\"timestamp\":\"2025-06-23T12:43:02.247397Z\"}')\n",
    "print(hello)"
   ]
  }
 ],
 "metadata": {
  "kernelspec": {
   "display_name": "main",
   "language": "python",
   "name": "python3"
  },
  "language_info": {
   "codemirror_mode": {
    "name": "ipython",
    "version": 3
   },
   "file_extension": ".py",
   "mimetype": "text/x-python",
   "name": "python",
   "nbconvert_exporter": "python",
   "pygments_lexer": "ipython3",
   "version": "3.12.3"
  }
 },
 "nbformat": 4,
 "nbformat_minor": 5
}
